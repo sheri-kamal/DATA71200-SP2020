{
 "cells": [
  {
   "cell_type": "markdown",
   "metadata": {},
   "source": [
    "# Sheridan Kamal\n",
    "\n",
    "## DATA 71200 - Project 2 (Due 4/29/2020, 11:59p)"
   ]
  },
  {
   "cell_type": "markdown",
   "metadata": {},
   "source": [
    "### Project\n",
    "For my project, I will be using time series data and machine learning methods to predict recessions. In this portion of the project, I will be using the training and testing sets created in the previous project to create two supervised machine learning models. I will be creating Logistic Regression models with different C values (0.01, 1, 10, 100) and Decision Tree Classifier models with different max depths (1, 2, 3, 4). The best Logistic Regression model is the model with a C value of 100 and the best Decision Tree Classifier model is the model with a max depth of 1.\n",
    "\n",
    "### Data\n",
    "I will be using the CSV file named 'Project Dataset.csv' that I generated in the previous project. Since this file has all of the features I wish to use for my model and the prediction labels are already encoded and the models that I chose do not require the data to be scaled there is nothing else that needs to be done to the data."
   ]
  },
  {
   "cell_type": "code",
   "execution_count": 205,
   "metadata": {},
   "outputs": [
    {
     "data": {
      "text/html": [
       "<div>\n",
       "<style scoped>\n",
       "    .dataframe tbody tr th:only-of-type {\n",
       "        vertical-align: middle;\n",
       "    }\n",
       "\n",
       "    .dataframe tbody tr th {\n",
       "        vertical-align: top;\n",
       "    }\n",
       "\n",
       "    .dataframe thead th {\n",
       "        text-align: right;\n",
       "    }\n",
       "</style>\n",
       "<table border=\"1\" class=\"dataframe\">\n",
       "  <thead>\n",
       "    <tr style=\"text-align: right;\">\n",
       "      <th></th>\n",
       "      <th>10yr Tbond</th>\n",
       "      <th>2yr Spread</th>\n",
       "      <th>Fedrate</th>\n",
       "      <th>% Change Payrolls</th>\n",
       "      <th>CPI</th>\n",
       "      <th>% Change 12M</th>\n",
       "      <th>Recession</th>\n",
       "    </tr>\n",
       "    <tr>\n",
       "      <th>Date</th>\n",
       "      <th></th>\n",
       "      <th></th>\n",
       "      <th></th>\n",
       "      <th></th>\n",
       "      <th></th>\n",
       "      <th></th>\n",
       "      <th></th>\n",
       "    </tr>\n",
       "  </thead>\n",
       "  <tbody>\n",
       "    <tr>\n",
       "      <th>1976-06-01</th>\n",
       "      <td>7.86</td>\n",
       "      <td>0.80</td>\n",
       "      <td>5.48</td>\n",
       "      <td>0.000807</td>\n",
       "      <td>56.7</td>\n",
       "      <td>0.091205</td>\n",
       "      <td>0.0</td>\n",
       "    </tr>\n",
       "    <tr>\n",
       "      <th>1976-07-01</th>\n",
       "      <td>7.83</td>\n",
       "      <td>0.98</td>\n",
       "      <td>5.31</td>\n",
       "      <td>0.002154</td>\n",
       "      <td>57.0</td>\n",
       "      <td>0.153168</td>\n",
       "      <td>0.0</td>\n",
       "    </tr>\n",
       "    <tr>\n",
       "      <th>1976-08-01</th>\n",
       "      <td>7.77</td>\n",
       "      <td>1.14</td>\n",
       "      <td>5.29</td>\n",
       "      <td>0.001974</td>\n",
       "      <td>57.3</td>\n",
       "      <td>0.169327</td>\n",
       "      <td>0.0</td>\n",
       "    </tr>\n",
       "    <tr>\n",
       "      <th>1976-09-01</th>\n",
       "      <td>7.59</td>\n",
       "      <td>1.17</td>\n",
       "      <td>5.25</td>\n",
       "      <td>0.002359</td>\n",
       "      <td>57.6</td>\n",
       "      <td>0.226975</td>\n",
       "      <td>0.0</td>\n",
       "    </tr>\n",
       "    <tr>\n",
       "      <th>1976-10-01</th>\n",
       "      <td>7.41</td>\n",
       "      <td>1.43</td>\n",
       "      <td>5.02</td>\n",
       "      <td>0.000238</td>\n",
       "      <td>57.9</td>\n",
       "      <td>0.144672</td>\n",
       "      <td>0.0</td>\n",
       "    </tr>\n",
       "  </tbody>\n",
       "</table>\n",
       "</div>"
      ],
      "text/plain": [
       "            10yr Tbond  2yr Spread  Fedrate  % Change Payrolls   CPI  \\\n",
       "Date                                                                   \n",
       "1976-06-01        7.86        0.80     5.48           0.000807  56.7   \n",
       "1976-07-01        7.83        0.98     5.31           0.002154  57.0   \n",
       "1976-08-01        7.77        1.14     5.29           0.001974  57.3   \n",
       "1976-09-01        7.59        1.17     5.25           0.002359  57.6   \n",
       "1976-10-01        7.41        1.43     5.02           0.000238  57.9   \n",
       "\n",
       "            % Change 12M  Recession  \n",
       "Date                                 \n",
       "1976-06-01      0.091205        0.0  \n",
       "1976-07-01      0.153168        0.0  \n",
       "1976-08-01      0.169327        0.0  \n",
       "1976-09-01      0.226975        0.0  \n",
       "1976-10-01      0.144672        0.0  "
      ]
     },
     "execution_count": 205,
     "metadata": {},
     "output_type": "execute_result"
    }
   ],
   "source": [
    "import warnings\n",
    "warnings.filterwarnings(\"ignore\")\n",
    "\n",
    "import numpy as np\n",
    "import pandas as pd\n",
    "import matplotlib.pyplot as plt\n",
    "%matplotlib inline\n",
    "import seaborn as sns\n",
    "\n",
    "data = pd.read_csv('Project Dataset.csv', sep = ',', parse_dates = ['Date'], index_col = 'Date')\n",
    "data.head()"
   ]
  },
  {
   "cell_type": "code",
   "execution_count": 206,
   "metadata": {},
   "outputs": [],
   "source": [
    "#70/30 sequential train-test split\n",
    "from sklearn.model_selection import train_test_split\n",
    "\n",
    "X = data.iloc[:, 0:-1]\n",
    "y = data.loc[:, 'Recession']\n",
    "\n",
    "X_train, X_test, y_train, y_test = train_test_split(X, y, train_size=.7, shuffle=False, random_state=1)"
   ]
  },
  {
   "cell_type": "code",
   "execution_count": 207,
   "metadata": {},
   "outputs": [
    {
     "name": "stdout",
     "output_type": "stream",
     "text": [
      "Split 1. Training set observations: 91, Testing set observations: 87\n",
      "Split 2. Training set observations: 178, Testing set observations: 87\n",
      "Split 3. Training set observations: 265, Testing set observations: 87\n",
      "Split 4. Training set observations: 352, Testing set observations: 87\n",
      "Split 5. Training set observations: 439, Testing set observations: 87\n"
     ]
    }
   ],
   "source": [
    "#For cross validation\n",
    "from sklearn.model_selection import TimeSeriesSplit\n",
    "\n",
    "tscv = TimeSeriesSplit(n_splits=5)\n",
    "\n",
    "index = 1\n",
    "for train_index, test_index in tscv.split(X):\n",
    "    X_train_fold, X_test_fold = X.iloc[train_index], X.iloc[test_index]\n",
    "    y_train_fold, y_test_fold = y.iloc[train_index], y.iloc[test_index]\n",
    "    print('Split %d.' % index, 'Training set observations: %d,' % len(train_index), 'Testing set observations: %d' % len(test_index))\n",
    "    index += 1"
   ]
  },
  {
   "cell_type": "code",
   "execution_count": 208,
   "metadata": {},
   "outputs": [
    {
     "name": "stdout",
     "output_type": "stream",
     "text": [
      "Training set score: 0.886\n",
      "Test set score: 0.880\n",
      "              precision    recall  f1-score   support\n",
      "\n",
      "         0.0       0.88      1.00      0.94       139\n",
      "         1.0       0.00      0.00      0.00        19\n",
      "\n",
      "    accuracy                           0.88       158\n",
      "   macro avg       0.44      0.50      0.47       158\n",
      "weighted avg       0.77      0.88      0.82       158\n",
      "\n"
     ]
    }
   ],
   "source": [
    "from sklearn.linear_model import LogisticRegression\n",
    "from sklearn import metrics\n",
    "from sklearn.metrics import classification_report\n",
    "from sklearn.metrics import confusion_matrix\n",
    "\n",
    "logmodel001 = LogisticRegression(C=0.01)\n",
    "logmodel001.fit(X_train, y_train)\n",
    "logpredict001 = logmodel001.predict(X_test)\n",
    "print(\"Training set score: {:.3f}\".format(logmodel001.score(X_train, y_train)))\n",
    "print(\"Test set score: {:.3f}\".format(logmodel001.score(X_test, y_test)))\n",
    "print(classification_report(y_test, logpredict001))"
   ]
  },
  {
   "cell_type": "code",
   "execution_count": 209,
   "metadata": {},
   "outputs": [
    {
     "name": "stdout",
     "output_type": "stream",
     "text": [
      "Training set score: 0.913\n",
      "Test set score: 0.880\n",
      "              precision    recall  f1-score   support\n",
      "\n",
      "         0.0       0.88      1.00      0.94       139\n",
      "         1.0       0.00      0.00      0.00        19\n",
      "\n",
      "    accuracy                           0.88       158\n",
      "   macro avg       0.44      0.50      0.47       158\n",
      "weighted avg       0.77      0.88      0.82       158\n",
      "\n"
     ]
    }
   ],
   "source": [
    "logmodel = LogisticRegression()\n",
    "logmodel.fit(X_train, y_train)\n",
    "logpredict = logmodel.predict(X_test)\n",
    "print(\"Training set score: {:.3f}\".format(logmodel.score(X_train, y_train)))\n",
    "print(\"Test set score: {:.3f}\".format(logmodel.score(X_test, y_test)))\n",
    "print(classification_report(y_test, logpredict))"
   ]
  },
  {
   "cell_type": "code",
   "execution_count": 210,
   "metadata": {},
   "outputs": [
    {
     "name": "stdout",
     "output_type": "stream",
     "text": [
      "Training set score: 0.908\n",
      "Test set score: 0.930\n",
      "              precision    recall  f1-score   support\n",
      "\n",
      "         0.0       0.93      1.00      0.96       139\n",
      "         1.0       1.00      0.42      0.59        19\n",
      "\n",
      "    accuracy                           0.93       158\n",
      "   macro avg       0.96      0.71      0.78       158\n",
      "weighted avg       0.94      0.93      0.92       158\n",
      "\n"
     ]
    }
   ],
   "source": [
    "logmodel10 = LogisticRegression(C=10)\n",
    "logmodel10.fit(X_train, y_train)\n",
    "logpredict10 = logmodel10.predict(X_test)\n",
    "print(\"Training set score: {:.3f}\".format(logmodel10.score(X_train, y_train)))\n",
    "print(\"Test set score: {:.3f}\".format(logmodel10.score(X_test, y_test)))\n",
    "print(classification_report(y_test, logpredict10))"
   ]
  },
  {
   "cell_type": "code",
   "execution_count": 211,
   "metadata": {},
   "outputs": [
    {
     "name": "stdout",
     "output_type": "stream",
     "text": [
      "Training set score: 0.916\n",
      "Test set score: 0.937\n",
      "              precision    recall  f1-score   support\n",
      "\n",
      "         0.0       0.93      1.00      0.97       139\n",
      "         1.0       1.00      0.47      0.64        19\n",
      "\n",
      "    accuracy                           0.94       158\n",
      "   macro avg       0.97      0.74      0.80       158\n",
      "weighted avg       0.94      0.94      0.93       158\n",
      "\n"
     ]
    }
   ],
   "source": [
    "#Best logistic regression model\n",
    "logmodel100 = LogisticRegression(C=100)\n",
    "logmodel100.fit(X_train, y_train)\n",
    "logpredict100 = logmodel100.predict(X_test)\n",
    "print(\"Training set score: {:.3f}\".format(logmodel100.score(X_train, y_train)))\n",
    "print(\"Test set score: {:.3f}\".format(logmodel100.score(X_test, y_test)))\n",
    "print(classification_report(y_test, logpredict100))"
   ]
  },
  {
   "cell_type": "code",
   "execution_count": 212,
   "metadata": {},
   "outputs": [
    {
     "data": {
      "image/png": "[encoded data removed]",
      "text/plain": [
       "<Figure size 432x288 with 1 Axes>"
      ]
     },
     "metadata": {
      "needs_background": "light"
     },
     "output_type": "display_data"
    }
   ],
   "source": [
    "from sklearn.metrics import roc_auc_score\n",
    "from sklearn.metrics import roc_curve\n",
    "\n",
    "logit_roc_auc = roc_auc_score(y_test, logmodel100.predict(X_test))\n",
    "fpr, tpr, thresholds = roc_curve(y_test, logmodel100.predict_proba(X_test)[:,1])\n",
    "plt.figure()\n",
    "plt.plot(fpr, tpr, label='Logistic Regression (area = %0.2f)' % logit_roc_auc)\n",
    "plt.plot([0, 1], [0, 1],'r--')\n",
    "plt.xlim([0.0, 1.0])\n",
    "plt.ylim([0.0, 1.05])\n",
    "plt.xlabel('False Positive Rate')\n",
    "plt.ylabel('True Positive Rate')\n",
    "plt.title('ROC Curve for C = 100')\n",
    "plt.legend(loc=\"lower right\")\n",
    "plt.show()"
   ]
  },
  {
   "cell_type": "code",
   "execution_count": 213,
   "metadata": {},
   "outputs": [
    {
     "name": "stdout",
     "output_type": "stream",
     "text": [
      "Split 1 accuracy: 0.6436781609195402\n",
      "Split 2 accuracy: 1.0\n",
      "Split 3 accuracy: 0.9310344827586207\n",
      "Split 4 accuracy: 0.8850574712643678\n",
      "Split 5 accuracy: 1.0\n"
     ]
    }
   ],
   "source": [
    "from sklearn.model_selection import cross_val_score\n",
    "\n",
    "logscore = cross_val_score(logmodel100, X, y, cv=tscv, scoring='accuracy')\n",
    "\n",
    "i = 0\n",
    "for i in range(len(logscore)):\n",
    "    print('Split %d accuracy:' % (i + 1), logscore[i])\n",
    "    i += 1"
   ]
  },
  {
   "cell_type": "code",
   "execution_count": 214,
   "metadata": {},
   "outputs": [
    {
     "name": "stdout",
     "output_type": "stream",
     "text": [
      "Training set score: 0.943\n",
      "Test set score: 0.930\n",
      "              precision    recall  f1-score   support\n",
      "\n",
      "         0.0       0.97      0.95      0.96       139\n",
      "         1.0       0.68      0.79      0.73        19\n",
      "\n",
      "    accuracy                           0.93       158\n",
      "   macro avg       0.83      0.87      0.85       158\n",
      "weighted avg       0.94      0.93      0.93       158\n",
      "\n"
     ]
    }
   ],
   "source": [
    "from sklearn.tree import DecisionTreeClassifier\n",
    "\n",
    "#Best decision tree classifier model\n",
    "dtmodel = DecisionTreeClassifier(max_depth=1, random_state=1)\n",
    "dtmodel.fit(X_train, y_train)\n",
    "dtpredict = dtmodel.predict(X_test)\n",
    "print(\"Training set score: {:.3f}\".format(dtmodel.score(X_train, y_train)))\n",
    "print(\"Test set score: {:.3f}\".format(dtmodel.score(X_test, y_test)))\n",
    "print(classification_report(y_test, dtpredict))"
   ]
  },
  {
   "cell_type": "code",
   "execution_count": 215,
   "metadata": {},
   "outputs": [
    {
     "data": {
      "text/plain": [
       "[Text(167.4, 163.07999999999998, 'X[3] <= -0.001\\ngini = 0.202\\nsamples = 368\\nvalue = [326, 42]\\nclass = y[0]'),\n",
       " Text(83.7, 54.360000000000014, 'gini = 0.369\\nsamples = 41\\nvalue = [10, 31]\\nclass = y[1]'),\n",
       " Text(251.10000000000002, 54.360000000000014, 'gini = 0.065\\nsamples = 327\\nvalue = [316, 11]\\nclass = y[0]')]"
      ]
     },
     "execution_count": 215,
     "metadata": {},
     "output_type": "execute_result"
    },
    {
     "data": {
      "image/png": "[encoded data removed]",
      "text/plain": [
       "<Figure size 432x288 with 1 Axes>"
      ]
     },
     "metadata": {
      "needs_background": "light"
     },
     "output_type": "display_data"
    }
   ],
   "source": [
    "from sklearn import tree\n",
    "\n",
    "tree.plot_tree(dtmodel.fit(X_train, y_train), class_names=True)"
   ]
  },
  {
   "cell_type": "code",
   "execution_count": 216,
   "metadata": {},
   "outputs": [
    {
     "name": "stdout",
     "output_type": "stream",
     "text": [
      "Training set score: 0.959\n",
      "Test set score: 0.911\n",
      "              precision    recall  f1-score   support\n",
      "\n",
      "         0.0       0.91      1.00      0.95       139\n",
      "         1.0       1.00      0.26      0.42        19\n",
      "\n",
      "    accuracy                           0.91       158\n",
      "   macro avg       0.95      0.63      0.68       158\n",
      "weighted avg       0.92      0.91      0.89       158\n",
      "\n"
     ]
    }
   ],
   "source": [
    "dtmodel2 = DecisionTreeClassifier(max_depth=2, random_state=1)\n",
    "dtmodel2.fit(X_train, y_train)\n",
    "dtpredict2 = dtmodel2.predict(X_test)\n",
    "print(\"Training set score: {:.3f}\".format(dtmodel2.score(X_train, y_train)))\n",
    "print(\"Test set score: {:.3f}\".format(dtmodel2.score(X_test, y_test)))\n",
    "print(classification_report(y_test, dtpredict2))"
   ]
  },
  {
   "cell_type": "code",
   "execution_count": 217,
   "metadata": {},
   "outputs": [
    {
     "name": "stdout",
     "output_type": "stream",
     "text": [
      "Training set score: 0.978\n",
      "Test set score: 0.911\n",
      "              precision    recall  f1-score   support\n",
      "\n",
      "         0.0       0.91      1.00      0.95       139\n",
      "         1.0       1.00      0.26      0.42        19\n",
      "\n",
      "    accuracy                           0.91       158\n",
      "   macro avg       0.95      0.63      0.68       158\n",
      "weighted avg       0.92      0.91      0.89       158\n",
      "\n"
     ]
    }
   ],
   "source": [
    "dtmodel3 = DecisionTreeClassifier(max_depth=3, random_state=1)\n",
    "dtmodel3.fit(X_train, y_train)\n",
    "dtpredict3 = dtmodel3.predict(X_test)\n",
    "print(\"Training set score: {:.3f}\".format(dtmodel3.score(X_train, y_train)))\n",
    "print(\"Test set score: {:.3f}\".format(dtmodel3.score(X_test, y_test)))\n",
    "print(classification_report(y_test, dtpredict3))"
   ]
  },
  {
   "cell_type": "code",
   "execution_count": 218,
   "metadata": {},
   "outputs": [
    {
     "name": "stdout",
     "output_type": "stream",
     "text": [
      "Training set score: 0.989\n",
      "Test set score: 0.911\n",
      "              precision    recall  f1-score   support\n",
      "\n",
      "         0.0       0.91      1.00      0.95       139\n",
      "         1.0       1.00      0.26      0.42        19\n",
      "\n",
      "    accuracy                           0.91       158\n",
      "   macro avg       0.95      0.63      0.68       158\n",
      "weighted avg       0.92      0.91      0.89       158\n",
      "\n"
     ]
    }
   ],
   "source": [
    "dtmodel4 = DecisionTreeClassifier(max_depth=4, random_state=1)\n",
    "dtmodel4.fit(X_train, y_train)\n",
    "dtpredict4 = dtmodel4.predict(X_test)\n",
    "print(\"Training set score: {:.3f}\".format(dtmodel4.score(X_train, y_train)))\n",
    "print(\"Test set score: {:.3f}\".format(dtmodel4.score(X_test, y_test)))\n",
    "print(classification_report(y_test, dtpredict4))"
   ]
  },
  {
   "cell_type": "code",
   "execution_count": 219,
   "metadata": {},
   "outputs": [
    {
     "name": "stdout",
     "output_type": "stream",
     "text": [
      "Split 1 accuracy: 0.9885057471264368\n",
      "Split 2 accuracy: 0.896551724137931\n",
      "Split 3 accuracy: 0.896551724137931\n",
      "Split 4 accuracy: 0.8850574712643678\n",
      "Split 5 accuracy: 0.9885057471264368\n"
     ]
    }
   ],
   "source": [
    "dtscore = cross_val_score(dtmodel, X, y, cv=tscv, scoring='accuracy')\n",
    "\n",
    "i = 0\n",
    "for i in range(len(dtscore)):\n",
    "    print('Split %d accuracy:' % (i + 1), dtscore[i])\n",
    "    i += 1"
   ]
  }
 ],
 "metadata": {
  "kernelspec": {
   "display_name": "Python 3",
   "language": "python",
   "name": "python3"
  },
  "language_info": {
   "codemirror_mode": {
    "name": "ipython",
    "version": 3
   },
   "file_extension": ".py",
   "mimetype": "text/x-python",
   "name": "python",
   "nbconvert_exporter": "python",
   "pygments_lexer": "ipython3",
   "version": "3.7.7"
  }
 },
 "nbformat": 4,
 "nbformat_minor": 4
}
