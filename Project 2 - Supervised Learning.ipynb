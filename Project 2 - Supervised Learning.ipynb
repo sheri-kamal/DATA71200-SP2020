{
 "cells": [
  {
   "cell_type": "markdown",
   "metadata": {},
   "source": [
    "# Sheridan Kamal\n",
    "\n",
    "## DATA 71200 - Project 2 (Due 4/29/2020, 11:59p)"
   ]
  },
  {
   "cell_type": "markdown",
   "metadata": {},
   "source": [
    "### Project\n",
    "For my project, I will be using time series data and machine learning methods to predict recessions. In this portion of the project, I will be using the training and testing sets created in the previous project to create two supervised machine learning models. I will be creating Logistic Regression models with scaled and unscaled data and Decision Tree Classifier models with scaled and unscaled data. The best Logistic Regression model is the model with the scaled data and the best Decision Tree Classifier model is the model with the scaled data.\n",
    "\n",
    "### Data\n",
    "I will be using the CSV file named 'Project Dataset.csv' that I generated in the previous project. Since this file has all of the features I wish to use for my model and the prediction labels are already encoded there are no data issues to deal with. For the models that require scaling of the data, I will be using pipelines to scale the data."
   ]
  },
  {
   "cell_type": "code",
   "execution_count": 1,
   "metadata": {},
   "outputs": [
    {
     "data": {
      "text/html": [
       "<div>\n",
       "<style scoped>\n",
       "    .dataframe tbody tr th:only-of-type {\n",
       "        vertical-align: middle;\n",
       "    }\n",
       "\n",
       "    .dataframe tbody tr th {\n",
       "        vertical-align: top;\n",
       "    }\n",
       "\n",
       "    .dataframe thead th {\n",
       "        text-align: right;\n",
       "    }\n",
       "</style>\n",
       "<table border=\"1\" class=\"dataframe\">\n",
       "  <thead>\n",
       "    <tr style=\"text-align: right;\">\n",
       "      <th></th>\n",
       "      <th>10yr Tbond</th>\n",
       "      <th>2yr Spread</th>\n",
       "      <th>Fedrate</th>\n",
       "      <th>% Change Payrolls</th>\n",
       "      <th>CPI</th>\n",
       "      <th>% Change 12M</th>\n",
       "      <th>Recession</th>\n",
       "    </tr>\n",
       "    <tr>\n",
       "      <th>Date</th>\n",
       "      <th></th>\n",
       "      <th></th>\n",
       "      <th></th>\n",
       "      <th></th>\n",
       "      <th></th>\n",
       "      <th></th>\n",
       "      <th></th>\n",
       "    </tr>\n",
       "  </thead>\n",
       "  <tbody>\n",
       "    <tr>\n",
       "      <th>1976-06-01</th>\n",
       "      <td>7.86</td>\n",
       "      <td>0.80</td>\n",
       "      <td>5.48</td>\n",
       "      <td>0.000807</td>\n",
       "      <td>56.7</td>\n",
       "      <td>0.091205</td>\n",
       "      <td>0.0</td>\n",
       "    </tr>\n",
       "    <tr>\n",
       "      <th>1976-07-01</th>\n",
       "      <td>7.83</td>\n",
       "      <td>0.98</td>\n",
       "      <td>5.31</td>\n",
       "      <td>0.002154</td>\n",
       "      <td>57.0</td>\n",
       "      <td>0.153168</td>\n",
       "      <td>0.0</td>\n",
       "    </tr>\n",
       "    <tr>\n",
       "      <th>1976-08-01</th>\n",
       "      <td>7.77</td>\n",
       "      <td>1.14</td>\n",
       "      <td>5.29</td>\n",
       "      <td>0.001974</td>\n",
       "      <td>57.3</td>\n",
       "      <td>0.169327</td>\n",
       "      <td>0.0</td>\n",
       "    </tr>\n",
       "    <tr>\n",
       "      <th>1976-09-01</th>\n",
       "      <td>7.59</td>\n",
       "      <td>1.17</td>\n",
       "      <td>5.25</td>\n",
       "      <td>0.002359</td>\n",
       "      <td>57.6</td>\n",
       "      <td>0.226975</td>\n",
       "      <td>0.0</td>\n",
       "    </tr>\n",
       "    <tr>\n",
       "      <th>1976-10-01</th>\n",
       "      <td>7.41</td>\n",
       "      <td>1.43</td>\n",
       "      <td>5.02</td>\n",
       "      <td>0.000238</td>\n",
       "      <td>57.9</td>\n",
       "      <td>0.144672</td>\n",
       "      <td>0.0</td>\n",
       "    </tr>\n",
       "  </tbody>\n",
       "</table>\n",
       "</div>"
      ],
      "text/plain": [
       "            10yr Tbond  2yr Spread  Fedrate  % Change Payrolls   CPI  \\\n",
       "Date                                                                   \n",
       "1976-06-01        7.86        0.80     5.48           0.000807  56.7   \n",
       "1976-07-01        7.83        0.98     5.31           0.002154  57.0   \n",
       "1976-08-01        7.77        1.14     5.29           0.001974  57.3   \n",
       "1976-09-01        7.59        1.17     5.25           0.002359  57.6   \n",
       "1976-10-01        7.41        1.43     5.02           0.000238  57.9   \n",
       "\n",
       "            % Change 12M  Recession  \n",
       "Date                                 \n",
       "1976-06-01      0.091205        0.0  \n",
       "1976-07-01      0.153168        0.0  \n",
       "1976-08-01      0.169327        0.0  \n",
       "1976-09-01      0.226975        0.0  \n",
       "1976-10-01      0.144672        0.0  "
      ]
     },
     "execution_count": 1,
     "metadata": {},
     "output_type": "execute_result"
    }
   ],
   "source": [
    "import warnings\n",
    "warnings.filterwarnings(\"ignore\")\n",
    "\n",
    "import numpy as np\n",
    "import pandas as pd\n",
    "import matplotlib.pyplot as plt\n",
    "%matplotlib inline\n",
    "import seaborn as sns\n",
    "\n",
    "data = pd.read_csv('Project Dataset.csv', sep = ',', parse_dates = ['Date'], index_col = 'Date')\n",
    "data.head()"
   ]
  },
  {
   "cell_type": "code",
   "execution_count": 2,
   "metadata": {},
   "outputs": [
    {
     "data": {
      "text/plain": [
       "<matplotlib.axes._subplots.AxesSubplot at 0x1c20bdd22c8>"
      ]
     },
     "execution_count": 2,
     "metadata": {},
     "output_type": "execute_result"
    },
    {
     "data": {
      "image/png": "[encoded data removed]",
      "text/plain": [
       "<Figure size 432x288 with 1 Axes>"
      ]
     },
     "metadata": {
      "needs_background": "light"
     },
     "output_type": "display_data"
    }
   ],
   "source": [
    "sns.distplot(data.loc[:, 'Recession'], kde=False) #0 = No Recession, 1 = Recession"
   ]
  },
  {
   "cell_type": "code",
   "execution_count": 3,
   "metadata": {},
   "outputs": [],
   "source": [
    "#70/30 sequential train-test split\n",
    "from sklearn.model_selection import train_test_split\n",
    "\n",
    "X = data.iloc[:, 0:-1]\n",
    "y = data.loc[:, 'Recession']\n",
    "\n",
    "X_train, X_test, y_train, y_test = train_test_split(X, y, train_size=.7, shuffle=False, random_state=1)"
   ]
  },
  {
   "cell_type": "code",
   "execution_count": 4,
   "metadata": {},
   "outputs": [
    {
     "name": "stdout",
     "output_type": "stream",
     "text": [
      "Split 1. Training set observations: 91, Testing set observations: 87\n",
      "Split 2. Training set observations: 178, Testing set observations: 87\n",
      "Split 3. Training set observations: 265, Testing set observations: 87\n",
      "Split 4. Training set observations: 352, Testing set observations: 87\n",
      "Split 5. Training set observations: 439, Testing set observations: 87\n"
     ]
    }
   ],
   "source": [
    "#For cross validation\n",
    "from sklearn.model_selection import TimeSeriesSplit\n",
    "\n",
    "tscv = TimeSeriesSplit(n_splits=5)\n",
    "\n",
    "index = 1\n",
    "for train_index, test_index in tscv.split(X):\n",
    "    X_train_fold, X_test_fold = X.iloc[train_index], X.iloc[test_index]\n",
    "    y_train_fold, y_test_fold = y.iloc[train_index], y.iloc[test_index]\n",
    "    print('Split %d.' % index, 'Training set observations: %d,' % len(train_index), 'Testing set observations: %d' % len(test_index))\n",
    "    index += 1"
   ]
  },
  {
   "cell_type": "code",
   "execution_count": 5,
   "metadata": {},
   "outputs": [
    {
     "name": "stdout",
     "output_type": "stream",
     "text": [
      "Tuned Logistic Regression Parameters: {'C': 1e-05, 'penalty': 'l2'}\n",
      "Tuned Logistic Regression Accuracy: 0.8918032786885245\n",
      "              precision    recall  f1-score   support\n",
      "\n",
      "         0.0       0.88      1.00      0.94       139\n",
      "         1.0       0.00      0.00      0.00        19\n",
      "\n",
      "    accuracy                           0.88       158\n",
      "   macro avg       0.44      0.50      0.47       158\n",
      "weighted avg       0.77      0.88      0.82       158\n",
      "\n"
     ]
    }
   ],
   "source": [
    "from sklearn.linear_model import LogisticRegression\n",
    "from sklearn import metrics\n",
    "from sklearn.metrics import classification_report\n",
    "from sklearn.metrics import confusion_matrix\n",
    "from sklearn.model_selection import GridSearchCV\n",
    "\n",
    "logreg = LogisticRegression()\n",
    "\n",
    "c_space = np.logspace(-5, 8, 15)\n",
    "param_grid = {'C': c_space, 'penalty': ['l1', 'l2']}\n",
    "\n",
    "logreg_cv = GridSearchCV(logreg, param_grid, cv=tscv)\n",
    "\n",
    "logreg_cv.fit(X_train, y_train)\n",
    "\n",
    "print(\"Tuned Logistic Regression Parameters: {}\".format(logreg_cv.best_params_)) \n",
    "print(\"Tuned Logistic Regression Accuracy: {}\".format(logreg_cv.best_score_))\n",
    "print(classification_report(y_test, logreg_cv.predict(X_test)))"
   ]
  },
  {
   "cell_type": "code",
   "execution_count": 6,
   "metadata": {},
   "outputs": [
    {
     "data": {
      "text/plain": [
       "<matplotlib.axes._subplots.AxesSubplot at 0x1c20c91ab88>"
      ]
     },
     "execution_count": 6,
     "metadata": {},
     "output_type": "execute_result"
    },
    {
     "data": {
      "image/png": "[encoded data removed]",
      "text/plain": [
       "<Figure size 432x288 with 2 Axes>"
      ]
     },
     "metadata": {
      "needs_background": "light"
     },
     "output_type": "display_data"
    }
   ],
   "source": [
    "confusion_matrix = pd.crosstab(y_test, logreg_cv.predict(X_test), rownames=['Actual'], colnames=['Predicted'])\n",
    "sns.heatmap(confusion_matrix, annot=True, fmt='d', cmap=\"YlGnBu\")"
   ]
  },
  {
   "cell_type": "code",
   "execution_count": 7,
   "metadata": {},
   "outputs": [
    {
     "data": {
      "image/png": "[encoded data removed]",
      "text/plain": [
       "<Figure size 432x288 with 1 Axes>"
      ]
     },
     "metadata": {
      "needs_background": "light"
     },
     "output_type": "display_data"
    }
   ],
   "source": [
    "from sklearn.metrics import roc_auc_score\n",
    "from sklearn.metrics import roc_curve\n",
    "\n",
    "y_pred_prob = logreg_cv.predict_proba(X_test)[:,1]\n",
    "\n",
    "logreg_roc_auc = roc_auc_score(y_test, y_pred_prob)\n",
    "fpr, tpr, thresholds = roc_curve(y_test, y_pred_prob)\n",
    "\n",
    "plt.plot([0, 1], [0, 1], 'r--')\n",
    "plt.plot(fpr, tpr, label='AUC = %0.2f' % logreg_roc_auc)\n",
    "plt.xlabel('False Positive Rate')\n",
    "plt.ylabel('True Positive Rate')\n",
    "plt.title('Unscaled Data ROC Curve')\n",
    "plt.legend(loc=\"lower right\")\n",
    "plt.show()"
   ]
  },
  {
   "cell_type": "code",
   "execution_count": 8,
   "metadata": {},
   "outputs": [
    {
     "name": "stdout",
     "output_type": "stream",
     "text": [
      "Tuned Logistic Regression with Scaling Parameters: {'LogReg__C': 3.727593720314938, 'LogReg__penalty': 'l2'}\n",
      "Tuned Logistic Regression with Scaling Accuracy: 0.9367088607594937\n",
      "              precision    recall  f1-score   support\n",
      "\n",
      "         0.0       0.94      0.99      0.96       139\n",
      "         1.0       0.85      0.58      0.69        19\n",
      "\n",
      "    accuracy                           0.94       158\n",
      "   macro avg       0.90      0.78      0.83       158\n",
      "weighted avg       0.93      0.94      0.93       158\n",
      "\n"
     ]
    }
   ],
   "source": [
    "from sklearn.preprocessing import StandardScaler\n",
    "from sklearn.pipeline import Pipeline\n",
    "\n",
    "steps = [('scaler', StandardScaler()),\n",
    "        ('LogReg', LogisticRegression())]\n",
    "\n",
    "parameters = {'LogReg__C': c_space, 'LogReg__penalty': ['l1', 'l2']}\n",
    "\n",
    "pipeline = Pipeline(steps)\n",
    "\n",
    "logreg_scaled = GridSearchCV(pipeline, parameters, cv=tscv)\n",
    "\n",
    "logreg_scaled.fit(X_train, y_train)\n",
    "\n",
    "print(\"Tuned Logistic Regression with Scaling Parameters: {}\".format(logreg_scaled.best_params_)) \n",
    "print('Tuned Logistic Regression with Scaling Accuracy: {}'.format(logreg_scaled.score(X_test, y_test)))\n",
    "print(classification_report(y_test, logreg_scaled.predict(X_test)))"
   ]
  },
  {
   "cell_type": "code",
   "execution_count": 9,
   "metadata": {},
   "outputs": [
    {
     "data": {
      "text/plain": [
       "<matplotlib.axes._subplots.AxesSubplot at 0x1c20cad9b08>"
      ]
     },
     "execution_count": 9,
     "metadata": {},
     "output_type": "execute_result"
    },
    {
     "data": {
      "image/png": "[encoded data removed]",
      "text/plain": [
       "<Figure size 432x288 with 2 Axes>"
      ]
     },
     "metadata": {
      "needs_background": "light"
     },
     "output_type": "display_data"
    }
   ],
   "source": [
    "confusion_matrix_2 = pd.crosstab(y_test, logreg_scaled.predict(X_test), rownames=['Actual'], colnames=['Predicted'])\n",
    "sns.heatmap(confusion_matrix_2, annot=True, fmt='d', cmap=\"YlGnBu\")"
   ]
  },
  {
   "cell_type": "code",
   "execution_count": 10,
   "metadata": {},
   "outputs": [
    {
     "data": {
      "image/png": "[encoded data removed]",
      "text/plain": [
       "<Figure size 432x288 with 1 Axes>"
      ]
     },
     "metadata": {
      "needs_background": "light"
     },
     "output_type": "display_data"
    }
   ],
   "source": [
    "y_pred_prob_scaled = logreg_scaled.predict_proba(X_test)[:,1]\n",
    "\n",
    "logreg_scaled_roc_auc = roc_auc_score(y_test, y_pred_prob_scaled)\n",
    "fpr, tpr, thresholds = roc_curve(y_test, y_pred_prob_scaled)\n",
    "\n",
    "plt.plot([0, 1], [0, 1], 'r--')\n",
    "plt.plot(fpr, tpr, label='AUC = %0.2f' % logreg_scaled_roc_auc)\n",
    "plt.xlabel('False Positive Rate')\n",
    "plt.ylabel('True Positive Rate')\n",
    "plt.title('Scaled Data ROC Curve')\n",
    "plt.legend(loc=\"lower right\")\n",
    "plt.show()"
   ]
  },
  {
   "cell_type": "code",
   "execution_count": 11,
   "metadata": {},
   "outputs": [
    {
     "name": "stdout",
     "output_type": "stream",
     "text": [
      "Tuned Decision Tree Parameters: {'criterion': 'entropy', 'max_depth': 1, 'max_features': 2, 'min_samples_leaf': 6}\n",
      "Tuned Decision Tree Accuracy: 0.9147540983606557\n",
      "              precision    recall  f1-score   support\n",
      "\n",
      "         0.0       0.88      1.00      0.94       139\n",
      "         1.0       0.00      0.00      0.00        19\n",
      "\n",
      "    accuracy                           0.88       158\n",
      "   macro avg       0.44      0.50      0.47       158\n",
      "weighted avg       0.77      0.88      0.82       158\n",
      "\n"
     ]
    }
   ],
   "source": [
    "from scipy.stats import randint\n",
    "from sklearn.tree import DecisionTreeClassifier\n",
    "from sklearn.model_selection import RandomizedSearchCV\n",
    "\n",
    "param_dist = {\"max_depth\": [1],\n",
    "              \"max_features\": randint(1, 9),\n",
    "              \"min_samples_leaf\": randint(1, 9),\n",
    "              \"criterion\": [\"gini\", \"entropy\"]}\n",
    "\n",
    "tree = DecisionTreeClassifier()\n",
    "\n",
    "tree_cv = RandomizedSearchCV(tree, param_dist, cv=tscv)\n",
    "\n",
    "tree_cv.fit(X_train, y_train)\n",
    "\n",
    "print(\"Tuned Decision Tree Parameters: {}\".format(tree_cv.best_params_))\n",
    "print(\"Tuned Decision Tree Accuracy: {}\".format(tree_cv.best_score_))\n",
    "print(classification_report(y_test, tree_cv.predict(X_test)))"
   ]
  },
  {
   "cell_type": "code",
   "execution_count": 12,
   "metadata": {},
   "outputs": [
    {
     "data": {
      "text/plain": [
       "<matplotlib.axes._subplots.AxesSubplot at 0x1c20ca55688>"
      ]
     },
     "execution_count": 12,
     "metadata": {},
     "output_type": "execute_result"
    },
    {
     "data": {
      "image/png": "[encoded data removed]",
      "text/plain": [
       "<Figure size 432x288 with 2 Axes>"
      ]
     },
     "metadata": {
      "needs_background": "light"
     },
     "output_type": "display_data"
    }
   ],
   "source": [
    "confusion_matrix_3 = pd.crosstab(y_test, tree_cv.predict(X_test), rownames=['Actual'], colnames=['Predicted'])\n",
    "sns.heatmap(confusion_matrix_3, annot=True, fmt='d', cmap=\"YlGnBu\")"
   ]
  },
  {
   "cell_type": "code",
   "execution_count": 13,
   "metadata": {},
   "outputs": [
    {
     "name": "stdout",
     "output_type": "stream",
     "text": [
      "Tuned Decision Tree with Scaling Parameters: {'TreeClass__criterion': 'gini', 'TreeClass__max_depth': 1, 'TreeClass__max_features': 5, 'TreeClass__min_samples_leaf': 4}\n",
      "Tuned Decision Tree with Scaling Accuracy: 0.930379746835443\n",
      "              precision    recall  f1-score   support\n",
      "\n",
      "         0.0       0.97      0.95      0.96       139\n",
      "         1.0       0.68      0.79      0.73        19\n",
      "\n",
      "    accuracy                           0.93       158\n",
      "   macro avg       0.83      0.87      0.85       158\n",
      "weighted avg       0.94      0.93      0.93       158\n",
      "\n"
     ]
    }
   ],
   "source": [
    "steps2 = [('scaler', StandardScaler()),\n",
    "        ('TreeClass', DecisionTreeClassifier())]\n",
    "\n",
    "parameter = {\"TreeClass__max_depth\": [1],\n",
    "              \"TreeClass__max_features\": randint(1, 9),\n",
    "              \"TreeClass__min_samples_leaf\": randint(1, 9),\n",
    "              \"TreeClass__criterion\": [\"gini\", \"entropy\"]}\n",
    "\n",
    "pipeline2 = Pipeline(steps2)\n",
    "\n",
    "tree_scaled = RandomizedSearchCV(pipeline2, parameter, cv=tscv)\n",
    "\n",
    "tree_scaled.fit(X_train, y_train)\n",
    "\n",
    "print(\"Tuned Decision Tree with Scaling Parameters: {}\".format(tree_scaled.best_params_)) \n",
    "print('Tuned Decision Tree with Scaling Accuracy: {}'.format(tree_scaled.score(X_test, y_test)))\n",
    "print(classification_report(y_test, tree_scaled.predict(X_test)))"
   ]
  },
  {
   "cell_type": "code",
   "execution_count": 14,
   "metadata": {},
   "outputs": [
    {
     "data": {
      "text/plain": [
       "<matplotlib.axes._subplots.AxesSubplot at 0x1c20cd65388>"
      ]
     },
     "execution_count": 14,
     "metadata": {},
     "output_type": "execute_result"
    },
    {
     "data": {
      "image/png": "[encoded data removed]",
      "text/plain": [
       "<Figure size 432x288 with 2 Axes>"
      ]
     },
     "metadata": {
      "needs_background": "light"
     },
     "output_type": "display_data"
    }
   ],
   "source": [
    "confusion_matrix_4 = pd.crosstab(y_test, tree_scaled.predict(X_test), rownames=['Actual'], colnames=['Predicted'])\n",
    "sns.heatmap(confusion_matrix_4, annot=True, fmt='d', cmap=\"YlGnBu\")"
   ]
  }
 ],
 "metadata": {
  "kernelspec": {
   "display_name": "Python 3",
   "language": "python",
   "name": "python3"
  },
  "language_info": {
   "codemirror_mode": {
    "name": "ipython",
    "version": 3
   },
   "file_extension": ".py",
   "mimetype": "text/x-python",
   "name": "python",
   "nbconvert_exporter": "python",
   "pygments_lexer": "ipython3",
   "version": "3.7.7"
  }
 },
 "nbformat": 4,
 "nbformat_minor": 4
}
